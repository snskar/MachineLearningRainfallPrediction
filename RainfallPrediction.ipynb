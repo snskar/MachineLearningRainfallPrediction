{
 "cells": [
  {
   "cell_type": "markdown",
   "metadata": {},
   "source": [
    "## PART 1"
   ]
  },
  {
   "cell_type": "code",
   "execution_count": 24,
   "metadata": {},
   "outputs": [],
   "source": [
    "#Sanskar Singh\n",
    "#19CH10047\n",
    "\n",
    "\n",
    "\n",
    "\n",
    "# INITIALISING AND LOADING IN THE DATA\n",
    "\n",
    "import scipy.io\n",
    "import numpy as np\n",
    "import matplotlib.pyplot as plt\n",
    "import pandas as pd\n",
    "\n",
    "\n",
    "from sklearn.linear_model import LinearRegression \n",
    "from sklearn.metrics import mean_squared_error\n",
    "from sklearn.tree import DecisionTreeRegressor\n",
    "from sklearn.linear_model import Lasso\n",
    "\n",
    "train_data = scipy.io.loadmat('2010rainfall.mat')\n",
    "test_data = scipy.io.loadmat('2011rainfall.mat')\n",
    "rainfall2010 = np.array(train_data['XR1'])\n",
    "rainfall2011 = np.array(test_data['XR'])"
   ]
  },
  {
   "cell_type": "code",
   "execution_count": 25,
   "metadata": {},
   "outputs": [],
   "source": [
    "#DEFINING IMPORTANT FUNCTIONS\n",
    "\n",
    "#Function to create a feature set of desired properties as required by our problem\n",
    "def train_set_creator(train_data,location):\n",
    "    train_data_final = []\n",
    "    train_data_update = np.delete(train_data, location, 0).T\n",
    "    that_day = 3\n",
    "    count = 0\n",
    "\n",
    "    for train_row in train_data_update:\n",
    "        time_cols = (train_data[location, (that_day-2):that_day])\n",
    "        train_row = np.append(train_row,time_cols,0)\n",
    "        train_data_final.append(train_row)\n",
    "        if count>2:\n",
    "            that_day += 1\n",
    "        count += 0\n",
    "    train_data_final = np.array(train_data_final)\n",
    "    return train_data_final\n",
    "\n",
    "#Function to evaluate mean squared error to judge the performance of our model\n",
    "def mean_squared_error(prediction,actual):\n",
    "    error_squared = 0\n",
    "    total = 0\n",
    "    for i in range(len(prediction)):\n",
    "        error_squared += ((prediction[i]-actual[i])**2)\n",
    "        total+=1\n",
    "    mean = error_squared/total\n",
    "    return mean\n",
    "    \n",
    "    \n",
    "#Function to evaluate the most important features from a given list returns a dictionary with the keys as indices\n",
    "def important_feature_finder(array,N):\n",
    "    features = {}\n",
    "    sorted_indices = np.argsort(array)\n",
    "    for i in range(N):\n",
    "        features[sorted_indices[-i]] = array[sorted_indices[-i]]\n",
    "                 \n",
    "    return features "
   ]
  },
  {
   "cell_type": "markdown",
   "metadata": {},
   "source": [
    "## PART 2"
   ]
  },
  {
   "cell_type": "code",
   "execution_count": 26,
   "metadata": {},
   "outputs": [],
   "source": [
    "#TRAINING 3 DIFFERENT LINEAR REGRESSION MODELS TO PREDICT RAINFALL\n",
    "\n",
    "#Mumbai Model Training \n",
    "train_Mumbai = train_set_creator(rainfall2010,42)\n",
    "test_Mumbai = train_set_creator(rainfall2011,42)                  #Building the Model\n",
    "regrMumbai = LinearRegression()                               \n",
    "regrMumbai.fit(train_Mumbai , rainfall2010[42,:])\n",
    "predictionM = regrMumbai.predict(test_Mumbai)                     #predictionM contains predicted rainfall for each day in Mumbai\n",
    "MSE_Mumbai = mean_squared_error(rainfall2011[42,:],predictionM)   #Mean squared error in predictions\n",
    "\n",
    "#Delhi Model Training\n",
    "train_Delhi = train_set_creator(rainfall2010,158)\n",
    "test_Delhi  = train_set_creator(rainfall2011,158)                  #Building the Model\n",
    "regrDelhi = LinearRegression()                                     \n",
    "regrDelhi.fit(train_Delhi, rainfall2010[158,:])                   \n",
    "predictionD = regrDelhi.predict(test_Delhi)                         #predictionD contains the predicted rainfall for each day in Delhi\n",
    "MSE_Delhi = (mean_squared_error(rainfall2011[158,:],predictionD))   #Mean squared error in predictions\n",
    "\n",
    "#Kharagpur Model Training\n",
    "train_Kharagpur = train_set_creator(rainfall2010,299)\n",
    "test_Kharagpur = train_set_creator(rainfall2011,299)                  #Building the Model\n",
    "regrKharagpur = LinearRegression()                                 \n",
    "regrKharagpur.fit(train_Kharagpur, rainfall2010[299,:]) \n",
    "predictionKGP = regrKharagpur.predict(test_Kharagpur)               #predictionKGP contains the predicted rainfall for each day in Kharagpur\n",
    "MSE_KGP = (mean_squared_error(rainfall2011[299,:],predictionKGP))   #Mean squared error in predictions\n",
    "    "
   ]
  },
  {
   "cell_type": "markdown",
   "metadata": {},
   "source": [
    "## PART 3"
   ]
  },
  {
   "cell_type": "code",
   "execution_count": 27,
   "metadata": {},
   "outputs": [
    {
     "name": "stdout",
     "output_type": "stream",
     "text": [
      "The MSE for Mumbai is : \n",
      "\n",
      "688.3778703802776\n",
      "\n",
      "The MSE for Delhi is : \n",
      "\n",
      "172.62977169745557\n",
      "\n",
      "The MSE for Kharagpur is : \n",
      "\n",
      "239.75037413746443\n"
     ]
    }
   ],
   "source": [
    "# Printing out the MSE values from our Linear Regression Models\n",
    "\n",
    "print(\"The MSE for Mumbai is : \\n\")\n",
    "print(MSE_Mumbai)\n",
    "print(\"\\nThe MSE for Delhi is : \\n\")\n",
    "print(MSE_Delhi)\n",
    "print(\"\\nThe MSE for Kharagpur is : \\n\")\n",
    "print(MSE_KGP)\n"
   ]
  },
  {
   "cell_type": "markdown",
   "metadata": {},
   "source": [
    "## PART 4"
   ]
  },
  {
   "cell_type": "code",
   "execution_count": 28,
   "metadata": {},
   "outputs": [
    {
     "name": "stdout",
     "output_type": "stream",
     "text": [
      "\n",
      "\n",
      "Lasso MSE for Mumbai :  1615.1028498320413\n",
      "\n",
      "\n",
      "Lasso MSE for Delhi :  68.46155648941063\n",
      "\n",
      "\n",
      "Lasso MSE for KGP :  249.26852498359472\n"
     ]
    }
   ],
   "source": [
    "#TRAINING 3 DIFFERENT LASSO REGRESSION MODELS TO PREDICT RAINFALL\n",
    "\n",
    "lasso_reg1 = Lasso(alpha = 0.1, normalize=True, max_iter = 1e5)\n",
    "lasso_reg2 = Lasso(alpha = 0.1, normalize=True, max_iter = 1e5)\n",
    "lasso_reg3 = Lasso(alpha = 0.1, normalize=True, max_iter = 1e5)\n",
    "\n",
    "\n",
    "lasso_Mumbai = lasso_reg1.fit(train_Mumbai,rainfall2010[42,:])                                 #Building the lasso regression model\n",
    "lasso_predM =lasso_reg1.predict(train_Mumbai)                                                  #lasso_predM contains predictions for each day of rainfall in Mumbai\n",
    "print(\"\\n\\nLasso MSE for Mumbai : \", mean_squared_error(lasso_predM,rainfall2011[42,:] ))    #Printing out the MSE values\n",
    "\n",
    "lasso_Delhi = lasso_reg2.fit(train_Delhi,rainfall2010[158,:])\n",
    "lasso_predD =lasso_reg2.predict(test_Delhi)\n",
    "print(\"\\n\\nLasso MSE for Delhi : \", mean_squared_error(lasso_predD,rainfall2011[158,:] ))\n",
    "\n",
    "lasso_KGP = lasso_reg3.fit(train_Kharagpur,rainfall2010[299,:])\n",
    "lasso_predKGP =lasso_reg3.predict(test_Kharagpur)\n",
    "print(\"\\n\\nLasso MSE for KGP : \", mean_squared_error(lasso_predKGP,rainfall2011[299,:] ))\n",
    "\n"
   ]
  },
  {
   "cell_type": "code",
   "execution_count": 29,
   "metadata": {},
   "outputs": [
    {
     "name": "stdout",
     "output_type": "stream",
     "text": [
      "\n",
      "The most important locations for Mumbai are:\n",
      "  dict_keys([158, 26, 25, 124, 226])\n",
      "\n",
      "The most important locations for Delhi are:\n",
      "  dict_keys([256, 131, 292, 263, 53])\n",
      "\n",
      "The most important locations for KGP are:\n",
      "  dict_keys([0, 298, 210, 304, 217])\n"
     ]
    }
   ],
   "source": [
    "#Finding the most important loactions for determining the rain in these cities\n",
    "\n",
    "Mumbaifeatures = important_feature_finder(lasso_Mumbai.coef_, 5)\n",
    "print(\"\\nThe most important locations for Mumbai are:\\n \", Mumbaifeatures.keys())\n",
    "\n",
    "Delhifeatures = important_feature_finder(lasso_Delhi.coef_, 5)\n",
    "print(\"\\nThe most important locations for Delhi are:\\n \", Delhifeatures.keys())\n",
    "\n",
    "KGPfeatures = important_feature_finder(lasso_KGP.coef_, 5)\n",
    "print(\"\\nThe most important locations for KGP are:\\n \", KGPfeatures.keys())"
   ]
  },
  {
   "cell_type": "markdown",
   "metadata": {},
   "source": [
    "## PART 5"
   ]
  },
  {
   "cell_type": "code",
   "execution_count": 30,
   "metadata": {},
   "outputs": [
    {
     "name": "stdout",
     "output_type": "stream",
     "text": [
      "\n",
      "The most important locations for classifying a day rainy or not are given as follows(using Gini importance): \n",
      "\n",
      "dict_keys([0, 184, 252, 160, 26, 204, 159, 150, 173, 25])\n"
     ]
    }
   ],
   "source": [
    "#TRAINING DECISION TREE MODEL TO PREDICT IF A DAY IS EITHER RAINY OR NOT\n",
    "\n",
    "\n",
    "DTregressor = DecisionTreeRegressor()\n",
    "DTtrain = np.array(train_data['ZR1'][0])\n",
    "DTregressor.fit(rainfall2010.T, DTtrain)\n",
    "y_pred = DTregressor.predict(rainfall2011.T)\n",
    "\n",
    "print(\"\\nThe most important locations for classifying a day rainy or not are given as follows(using Gini importance): \\n\")\n",
    "print((important_feature_finder(DTregressor.feature_importances_,10)).keys())\n",
    "\n"
   ]
  },
  {
   "cell_type": "markdown",
   "metadata": {},
   "source": [
    "## PART 6"
   ]
  },
  {
   "cell_type": "code",
   "execution_count": 31,
   "metadata": {},
   "outputs": [
    {
     "name": "stdout",
     "output_type": "stream",
     "text": [
      "\n",
      "The MSE determined using a decision tree classification is: \n",
      "\n",
      "0.29508196721311475\n",
      "\n",
      "The accuracy of the prediction of our model is :\n",
      "\n",
      "70.49180327868852%\n"
     ]
    }
   ],
   "source": [
    "print(\"\\nThe MSE determined using a decision tree classification is: \\n\")\n",
    "print(mean_squared_error(y_pred, np.array(test_data['ZR'][0])))\n",
    "print(\"\\nThe accuracy of the prediction of our model is :\\n\")\n",
    "print(str((1-mean_squared_error(y_pred, np.array(test_data['ZR'][0])))*100) + '%')\n",
    "\n",
    "\n"
   ]
  },
  {
   "cell_type": "code",
   "execution_count": null,
   "metadata": {},
   "outputs": [],
   "source": []
  }
 ],
 "metadata": {
  "kernelspec": {
   "display_name": "Python 3",
   "language": "python",
   "name": "python3"
  },
  "language_info": {
   "codemirror_mode": {
    "name": "ipython",
    "version": 3
   },
   "file_extension": ".py",
   "mimetype": "text/x-python",
   "name": "python",
   "nbconvert_exporter": "python",
   "pygments_lexer": "ipython3",
   "version": "3.8.3"
  }
 },
 "nbformat": 4,
 "nbformat_minor": 4
}
